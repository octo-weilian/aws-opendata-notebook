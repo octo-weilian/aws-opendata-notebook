{
 "cells": [
  {
   "cell_type": "code",
   "execution_count": null,
   "metadata": {},
   "outputs": [],
   "source": [
    "from pystac_client import Client\n",
    "import xarray as xr\n",
    "import datetime as dt\n",
    "import rioxarray as rio\n",
    "import geopandas as gpd\n",
    "from rasterio.enums import Resampling\n",
    "from pathlib import Path"
   ]
  },
  {
   "cell_type": "code",
   "execution_count": null,
   "metadata": {},
   "outputs": [],
   "source": [
    "#helper function to search sentinel-2 images\n",
    "def get_sentinel2_collections(start_date,end_date,intersects_geom,max_cloud_cover=50,max_items=10):\n",
    "    client = Client.open(\"https://earth-search.aws.element84.com/v1\")\n",
    "    search = client.search(\n",
    "        collections=[\"sentinel-2-l2a\"],\n",
    "        intersects=intersects_geom,\n",
    "        datetime=f\"{start_date}/{end_date}\",\n",
    "        query=[f\"eo:cloud_cover<{max_cloud_cover}\"],\n",
    "        max_items=max_items\n",
    "        )\n",
    "    \n",
    "    if nr_matches:=search.matched():\n",
    "        print(f\"Found {nr_matches} image(s)\")\n",
    "        return search.item_collection()\n",
    "        "
   ]
  },
  {
   "cell_type": "code",
   "execution_count": null,
   "metadata": {},
   "outputs": [],
   "source": [
    "#load aoi from parquet\n",
    "aoi_parquet = Path(\"data/cleaned/clients/dummy_plantations.parquet\")\n",
    "aoi_crs = aoi_parquet.crs.to_epsg()\n",
    "aoi_gdf = gpd.read_parquet(aoi_parquet)\n",
    "aoi_gdf['geometry'] = aoi_gdf['geometry'].explode(index_parts=True).reset_index(drop=True) #fix for multipolygons\n",
    "aoi_gdf['geometry'] = aoi_gdf['geometry'].minimum_bounding_circle()\n"
   ]
  },
  {
   "cell_type": "code",
   "execution_count": null,
   "metadata": {},
   "outputs": [],
   "source": [
    "#sentinel2 search params\n",
    "lag0days_dt = dt.datetime.today()\n",
    "start_date = (lag0days_dt - dt.timedelta(days=7)).strftime('%Y-%m-%d')\n",
    "end_date = lag0days_dt.strftime('%Y-%m-%d')\n",
    "intersects_geom_wgs84 = aoi_gdf.to_crs(4236).dissolve().concave_hull().__geo_interface__['features'][0]['geometry']"
   ]
  },
  {
   "cell_type": "code",
   "execution_count": null,
   "metadata": {},
   "outputs": [],
   "source": [
    "#create and write NDVI and RGB images\n",
    "collections = get_sentinel2_collections(start_date,end_date,intersects_geom_wgs84)\n",
    "for obj in collections:\n",
    "\n",
    "    #create geojson for clipping images\n",
    "    epsg_crs = obj.properties['proj:epsg']\n",
    "    clip_geojson = [aoi_gdf.to_crs(epsg_crs).dissolve().__geo_interface__['features'][0]['geometry']]\n",
    "    \n",
    "    #clip, stack and reproject images\n",
    "    imgs = []\n",
    "    for item,asset in obj.assets.items():\n",
    "        if item in ['red', 'green', 'blue','nir']:\n",
    "            img = (rio.open_rasterio(asset.href)\n",
    "                   .isel(band=0)\n",
    "                   .drop_vars(['band'])\n",
    "                   .to_dataset(name=item)\n",
    "                   .rio.clip(clip_geojson, from_disk=True, all_touched=True))\n",
    "            imgs.append(img)\n",
    "    stacked_img = xr.combine_by_coords(imgs).rio.reproject(dst_crs=f\"epsg:{aoi_crs}\", resolution=10, resampling=Resampling.bilinear)  \n",
    "    \n",
    "    #compose new images\n",
    "    ndvi_img = ((stacked_img['nir']  - stacked_img['red'] )/(stacked_img['nir']  +  stacked_img['red'] )).to_dataset(name='ndvi').astype('float32')\n",
    "    rgb_img = stacked_img[['red','green','blue']]\n",
    "\n",
    "    #export new images\n",
    "    ndvi_img.rio.to_raster(f'{obj.id}_ndvi.tif', driver='COG')\n",
    "    rgb_img.rio.to_raster(f'{obj.id}_rgb.tif', driver='COG')"
   ]
  },
  {
   "cell_type": "code",
   "execution_count": null,
   "metadata": {},
   "outputs": [],
   "source": []
  }
 ],
 "metadata": {
  "kernelspec": {
   "display_name": ".venv",
   "language": "python",
   "name": "python3"
  },
  "language_info": {
   "codemirror_mode": {
    "name": "ipython",
    "version": 3
   },
   "file_extension": ".py",
   "mimetype": "text/x-python",
   "name": "python",
   "nbconvert_exporter": "python",
   "pygments_lexer": "ipython3",
   "version": "3.10.12"
  }
 },
 "nbformat": 4,
 "nbformat_minor": 2
}

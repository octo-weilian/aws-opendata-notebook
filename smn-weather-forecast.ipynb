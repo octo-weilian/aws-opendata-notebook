{
 "cells": [
  {
   "cell_type": "code",
   "execution_count": null,
   "metadata": {},
   "outputs": [],
   "source": [
    "import xarray as xr\n",
    "import s3fs\n",
    "import datetime as dt\n",
    "import rioxarray as rio\n",
    "import geopandas as gpd\n",
    "from rasterio.enums import Resampling\n",
    "from pathlib import Path "
   ]
  },
  {
   "cell_type": "code",
   "execution_count": null,
   "metadata": {},
   "outputs": [],
   "source": [
    "\n",
    "#medaillon folderstructure\n",
    "raw_dir     = Path('./data/raw')\n",
    "cleaned_dir = Path('./data/cleaned')\n",
    "\n",
    "#current datetime object\n",
    "lag0days_dt = dt.datetime.today()\n",
    "\n",
    "#create raw dir\n",
    "raw_day_dir = raw_dir / lag0days_dt.strftime('%Y/%m/%d') \n",
    "raw_day_dir.mkdir(parents=True,exist_ok=True)\n",
    "\n",
    "#create cleaned dir\n",
    "cleaned_day_dir = cleaned_dir / lag0days_dt.strftime('%Y/%m/%d') \n",
    "cleaned_day_dir.mkdir(parents=True,exist_ok=True)\n",
    "\n",
    "hourly_variables = [\"PP\", \"HR2\", \"T2\",\"dirViento10\", \"magViento10\", \"PSFC\", \n",
    "                    \"ACLWDNB\", \"ACLWUPB\", \"ACSWDNB\", \"TSLB\", \"SMOIS\"]\n",
    "daily_variables = [\"Tmax\", \"Tmin\"]"
   ]
  },
  {
   "cell_type": "code",
   "execution_count": null,
   "metadata": {},
   "outputs": [],
   "source": [
    "#construct s3 urls\n",
    "hourly_wrf_urls = []\n",
    "for fhr in range(1,25):\n",
    "    hourly_wrf_url = f\"s3://smn-ar-wrf/DATA/WRF/DET/{lag0days_dt.strftime('%Y/%m/%d')}/00/WRFDETAR_01H_{lag0days_dt.strftime('%Y%m%d')}_00_{fhr:03d}.nc\"\n",
    "    hourly_wrf_urls.append(hourly_wrf_url)\n",
    "\n",
    "#download netcdf files from s3\n",
    "fs = s3fs.S3FileSystem(anon=True, requester_pays=False)\n",
    "if not list(raw_day_dir.glob(\"*.nc\")):\n",
    "    fs.get(hourly_wrf_urls,str(raw_day_dir))"
   ]
  },
  {
   "cell_type": "code",
   "execution_count": null,
   "metadata": {},
   "outputs": [],
   "source": [
    "#stack multiple netcdf files\n",
    "hourly_wrf_files = list(raw_day_dir.glob(\"*.nc\"))\n",
    "daily_data = xr.open_mfdataset(hourly_wrf_files, chunks='auto',decode_coords=False)[hourly_variables]\n",
    "\n",
    "#sum precipitation, but compute average for other variables and stack them to a new image\n",
    "daily_sum_pp = daily_data[\"PP\"].sum(dim=\"time\")\n",
    "daily_median_others = daily_data.drop_vars(\"PP\").median(dim=\"time\")\n",
    "daily_data = xr.combine_by_coords([daily_sum_pp,daily_median_others])\n",
    "\n",
    "#assign the crs to the new image\n",
    "img_for_crs = rio.open_rasterio(hourly_wrf_files[0], decode_times=False)\n",
    "img_crs = img_for_crs.isel(time=0)['PP'].rio.crs\n",
    "daily_data = daily_data.rio.write_crs(img_crs)"
   ]
  },
  {
   "cell_type": "code",
   "execution_count": null,
   "metadata": {},
   "outputs": [],
   "source": [
    "#load country parquet for clipping\n",
    "argentina_pqt = Path('data/cleaned/reference/province.parquet')\n",
    "gdf_argentina = gpd.read_parquet(argentina_pqt).dissolve()\n",
    "argentina_crs = gdf_argentina.crs.to_epsg()\n",
    "clip_geojson = [gdf_argentina.to_crs(daily_data.rio.crs)._to_geo()['features'][0]['geometry']]\n",
    "\n",
    "#clip and reproject \n",
    "daily_data = daily_data.rio.clip(clip_geojson, from_disk=True, all_touched=True)\n",
    "daily_data = daily_data.rio.reproject(dst_crs=f\"epsg:{argentina_crs}\", resolution=4000,resampling=Resampling.bilinear)\n",
    "\n",
    "#write to cog\n",
    "output_cog = cleaned_day_dir / f\"WRFDETAR_{lag0days_dt.strftime('%Y%m%d')}.tif\"\n",
    "daily_data.rio.to_raster(output_cog, driver='COG')\n"
   ]
  }
 ],
 "metadata": {
  "kernelspec": {
   "display_name": ".venv",
   "language": "python",
   "name": "python3"
  },
  "language_info": {
   "codemirror_mode": {
    "name": "ipython",
    "version": 3
   },
   "file_extension": ".py",
   "mimetype": "text/x-python",
   "name": "python",
   "nbconvert_exporter": "python",
   "pygments_lexer": "ipython3",
   "version": "3.10.12"
  }
 },
 "nbformat": 4,
 "nbformat_minor": 2
}

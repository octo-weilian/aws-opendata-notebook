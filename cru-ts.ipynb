{
 "cells": [
  {
   "cell_type": "code",
   "execution_count": 99,
   "metadata": {},
   "outputs": [],
   "source": [
    "import xarray as xr\n",
    "import datetime as dt\n",
    "import rioxarray as rio\n",
    "from rasterio.enums import Resampling\n",
    "from pathlib import Path\n",
    "import requests\n",
    "import geopandas as gpd"
   ]
  },
  {
   "cell_type": "code",
   "execution_count": 100,
   "metadata": {},
   "outputs": [
    {
     "name": "stderr",
     "output_type": "stream",
     "text": [
      "/tmp/ipykernel_16992/1646375454.py:4: FutureWarning: The geopandas.dataset module is deprecated and will be removed in GeoPandas 1.0. You can get the original 'naturalearth_lowres' data from https://www.naturalearthdata.com/downloads/110m-cultural-vectors/.\n",
      "  gdf = gpd.read_file(gpd.datasets.get_path(\"naturalearth_lowres\"))\n"
     ]
    }
   ],
   "source": [
    "data_dir = Path(\"./data/reference/\")\n",
    "\n",
    "#clip geometry\n",
    "gdf = gpd.read_file(gpd.datasets.get_path(\"naturalearth_lowres\")) \n",
    "gdf = gdf[gdf['name']=='Argentina'].reset_index(drop=True)\n",
    "clip_geojson = [gdf.geometry.__geo_interface__['features'][0]['geometry']]\n",
    "\n",
    "#variables\n",
    "variables = ['pre','tmp','tmn','tmx']\n",
    "year_period = ['1981.1990','2001.2010','2011.2020']\n",
    "endpoint = \"https://crudata.uea.ac.uk/cru/data/hrg/cru_ts_4.07/cruts.2304141047.v4.07/{variable}/cru_ts4.07.{year}.{variable}.dat.nc.gz\"\n"
   ]
  },
  {
   "cell_type": "code",
   "execution_count": 101,
   "metadata": {},
   "outputs": [],
   "source": [
    "#download files        \n",
    "with requests.Session() as s:\n",
    "    for variable in variables:\n",
    "        for year in year_period:\n",
    "            gzip_url = endpoint.format(variable=variable, year=year)\n",
    "            fname = data_dir/ gzip_url.split(\"/\")[-1]\n",
    "\n",
    "            if not fname.exists():\n",
    "                r = s.get(gzip_url,stream=True)\n",
    "                with open(fname, 'wb') as f:\n",
    "                    for chunk in r.raw.stream(1024, decode_content=False):\n",
    "                        if chunk:\n",
    "                            f.write(chunk)"
   ]
  },
  {
   "cell_type": "code",
   "execution_count": 103,
   "metadata": {},
   "outputs": [
    {
     "name": "stderr",
     "output_type": "stream",
     "text": [
      "/home/sudoku/repo/hires-weather-app/.venv/lib/python3.10/site-packages/rioxarray/raster_writer.py:130: UserWarning: The nodata value (3.402823466e+38) has been automatically changed to (3.4028234663852886e+38) to match the dtype of the data.\n",
      "  warnings.warn(\n"
     ]
    },
    {
     "name": "stdout",
     "output_type": "stream",
     "text": [
      "Saved as CRU_TS_4_07_Avg_Monthly_PRE_1981_2020.tif\n"
     ]
    },
    {
     "ename": "",
     "evalue": "",
     "output_type": "error",
     "traceback": [
      "\u001b[1;31mThe Kernel crashed while executing code in the the current cell or a previous cell. Please review the code in the cell(s) to identify a possible cause of the failure. Click <a href='https://aka.ms/vscodeJupyterKernelCrash'>here</a> for more info. View Jupyter <a href='command:jupyter.viewOutput'>log</a> for further details."
     ]
    }
   ],
   "source": [
    "#process data\n",
    "for var in variables:\n",
    "       timeseries_dataset = data_dir.glob(f\"*.{var}.dat.nc.gz\")\n",
    "       fname = f\"CRU_TS_4_07_Avg_Monthly_{var.upper()}_1981_2020.tif\"\n",
    "\n",
    "       img = (xr.open_mfdataset(timeseries_dataset,cache=False)[var]\n",
    "              .rename({'lon':'x','lat':'y'})\n",
    "              .rio.write_crs(4326)\n",
    "              .rio.clip(clip_geojson, from_disk=True, all_touched=True)\n",
    "              .groupby('time.month').mean()\n",
    "              .rio.reproject(dst_crs=f\"epsg:3857\", resolution=4000, resampling=Resampling.bilinear)\n",
    "              )\n",
    "\n",
    "       img.rio.to_raster(fname,driver=\"COG\",windowed=True)\n",
    "       print(f\"Saved as {fname}\")"
   ]
  },
  {
   "cell_type": "code",
   "execution_count": null,
   "metadata": {},
   "outputs": [],
   "source": []
  },
  {
   "cell_type": "code",
   "execution_count": null,
   "metadata": {},
   "outputs": [],
   "source": []
  },
  {
   "cell_type": "code",
   "execution_count": null,
   "metadata": {},
   "outputs": [],
   "source": []
  }
 ],
 "metadata": {
  "kernelspec": {
   "display_name": ".venv",
   "language": "python",
   "name": "python3"
  },
  "language_info": {
   "codemirror_mode": {
    "name": "ipython",
    "version": 3
   },
   "file_extension": ".py",
   "mimetype": "text/x-python",
   "name": "python",
   "nbconvert_exporter": "python",
   "pygments_lexer": "ipython3",
   "version": "3.10.12"
  }
 },
 "nbformat": 4,
 "nbformat_minor": 2
}
